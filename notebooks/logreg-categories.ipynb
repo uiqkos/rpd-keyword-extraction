{
 "cells": [
  {
   "cell_type": "code",
   "execution_count": 112,
   "metadata": {
    "collapsed": true
   },
   "outputs": [],
   "source": [
    "from functools import partial\n",
    "\n",
    "import numpy as np\n",
    "import pandas as pd\n",
    "from sklearn.linear_model import LogisticRegression\n",
    "from sklearn.metrics import classification_report, f1_score, accuracy_score, precision_score\n",
    "from sklearn.model_selection import train_test_split\n",
    "from sklearn.neural_network import MLPClassifier\n",
    "from sklearn.preprocessing import LabelEncoder, OneHotEncoder\n",
    "from sklearn.svm import SVC\n",
    "from tqdm import tqdm\n",
    "\n",
    "from src.cluster.embeddingsource import RuWikiRuscorporaCBOW_300_10_2021\n",
    "from src.cluster.tokenizer import Tokenizer\n",
    "from src.settings import MODELS_PATH, DATA_PATH\n",
    "from src.utils import merge_csv, file_paths, keywords_from_dataframe"
   ]
  },
  {
   "cell_type": "code",
   "execution_count": 2,
   "outputs": [],
   "source": [
    "%load_ext autoreload\n",
    "%autoreload 2"
   ],
   "metadata": {
    "collapsed": false,
    "pycharm": {
     "name": "#%%\n"
    }
   }
  },
  {
   "cell_type": "code",
   "execution_count": 116,
   "outputs": [],
   "source": [
    "model = LogisticRegression()"
   ],
   "metadata": {
    "collapsed": false,
    "pycharm": {
     "name": "#%%\n"
    }
   }
  },
  {
   "cell_type": "code",
   "execution_count": 6,
   "outputs": [
    {
     "name": "stderr",
     "output_type": "stream",
     "text": [
      "[INFO] loading projection weights from D:\\projects\\rpd-keyword-extraction\\models\\embeddings\\ruwikiruscorpora_upos_cbow_300_10_2021\\model.bin\n",
      "[INFO] KeyedVectors lifecycle event {'msg': 'loaded (249333, 300) matrix of type float32 from D:\\\\projects\\\\rpd-keyword-extraction\\\\models\\\\embeddings\\\\ruwikiruscorpora_upos_cbow_300_10_2021\\\\model.bin', 'binary': True, 'encoding': 'utf8', 'datetime': '2022-04-05T19:20:49.697437', 'gensim': '4.1.2', 'python': '3.9.6 (tags/v3.9.6:db3ff76, Jun 28 2021, 15:26:21) [MSC v.1929 64 bit (AMD64)]', 'platform': 'Windows-10-10.0.22000-SP0', 'event': 'load_word2vec_format'}\n",
      "c:\\users\\uiqko\\pyenvs\\mint\\lib\\site-packages\\gensim\\models\\keyedvectors.py:478: UserWarning: Adding single vectors to a KeyedVectors which grows by one each time can be costly. Consider adding in batches or preallocating to the required size.\n",
      "  warnings.warn(\n",
      "\n"
     ]
    }
   ],
   "source": [
    "tokenizer = Tokenizer(RuWikiRuscorporaCBOW_300_10_2021.load(MODELS_PATH / 'embeddings'))"
   ],
   "metadata": {
    "collapsed": false,
    "pycharm": {
     "name": "#%%\n"
    }
   }
  },
  {
   "cell_type": "code",
   "execution_count": 12,
   "outputs": [],
   "source": [
    "df = pd.read_csv(DATA_PATH / 'raw' / 'categories_train.txt', sep=';')"
   ],
   "metadata": {
    "collapsed": false,
    "pycharm": {
     "name": "#%%\n"
    }
   }
  },
  {
   "cell_type": "code",
   "execution_count": 13,
   "outputs": [
    {
     "data": {
      "text/plain": "                                       category  \\\n0  программирование и информационные технологии   \n1  программирование и информационные технологии   \n2  программирование и информационные технологии   \n3                                   soft-skills   \n4                            естественные науки   \n5  программирование и информационные технологии   \n6  программирование и информационные технологии   \n7  программирование и информационные технологии   \n8                            естественные науки   \n9                   электроника и робототехника   \n\n                                            keywords  \n0  c++,ЭВМ структура и принцип работы,системное п...  \n1  проектная деятельность,управление проектами,ра...  \n2  проектная деятельность,управление проектами,ра...  \n3  проектная деятельность,управление проектами,ин...  \n4  общая химия,научно-технический прогресс,иннова...  \n5  командная строка cmd,информационная безопаснос...  \n6  html и css,программирование с использованием к...  \n7  html и css,JavaScript,программирование с испол...  \n8  управление проектами,общая химия,анализ биолог...  \n9  работа с базами данных,оптические системы,комп...  ",
      "text/html": "<div>\n<style scoped>\n    .dataframe tbody tr th:only-of-type {\n        vertical-align: middle;\n    }\n\n    .dataframe tbody tr th {\n        vertical-align: top;\n    }\n\n    .dataframe thead th {\n        text-align: right;\n    }\n</style>\n<table border=\"1\" class=\"dataframe\">\n  <thead>\n    <tr style=\"text-align: right;\">\n      <th></th>\n      <th>category</th>\n      <th>keywords</th>\n    </tr>\n  </thead>\n  <tbody>\n    <tr>\n      <th>0</th>\n      <td>программирование и информационные технологии</td>\n      <td>c++,ЭВМ структура и принцип работы,системное п...</td>\n    </tr>\n    <tr>\n      <th>1</th>\n      <td>программирование и информационные технологии</td>\n      <td>проектная деятельность,управление проектами,ра...</td>\n    </tr>\n    <tr>\n      <th>2</th>\n      <td>программирование и информационные технологии</td>\n      <td>проектная деятельность,управление проектами,ра...</td>\n    </tr>\n    <tr>\n      <th>3</th>\n      <td>soft-skills</td>\n      <td>проектная деятельность,управление проектами,ин...</td>\n    </tr>\n    <tr>\n      <th>4</th>\n      <td>естественные науки</td>\n      <td>общая химия,научно-технический прогресс,иннова...</td>\n    </tr>\n    <tr>\n      <th>5</th>\n      <td>программирование и информационные технологии</td>\n      <td>командная строка cmd,информационная безопаснос...</td>\n    </tr>\n    <tr>\n      <th>6</th>\n      <td>программирование и информационные технологии</td>\n      <td>html и css,программирование с использованием к...</td>\n    </tr>\n    <tr>\n      <th>7</th>\n      <td>программирование и информационные технологии</td>\n      <td>html и css,JavaScript,программирование с испол...</td>\n    </tr>\n    <tr>\n      <th>8</th>\n      <td>естественные науки</td>\n      <td>управление проектами,общая химия,анализ биолог...</td>\n    </tr>\n    <tr>\n      <th>9</th>\n      <td>электроника и робототехника</td>\n      <td>работа с базами данных,оптические системы,комп...</td>\n    </tr>\n  </tbody>\n</table>\n</div>"
     },
     "execution_count": 13,
     "metadata": {},
     "output_type": "execute_result"
    }
   ],
   "source": [
    "df.head(10)"
   ],
   "metadata": {
    "collapsed": false,
    "pycharm": {
     "name": "#%%\n"
    }
   }
  },
  {
   "cell_type": "code",
   "execution_count": 81,
   "outputs": [],
   "source": [
    "X, y = df.keywords, df.category"
   ],
   "metadata": {
    "collapsed": false,
    "pycharm": {
     "name": "#%%\n"
    }
   }
  },
  {
   "cell_type": "code",
   "execution_count": 82,
   "outputs": [],
   "source": [
    "X = keywords_from_dataframe(X)"
   ],
   "metadata": {
    "collapsed": false,
    "pycharm": {
     "name": "#%%\n"
    }
   }
  },
  {
   "cell_type": "code",
   "execution_count": 83,
   "outputs": [
    {
     "data": {
      "text/plain": "27"
     },
     "execution_count": 83,
     "metadata": {},
     "output_type": "execute_result"
    }
   ],
   "source": [
    "max(map(len, X))"
   ],
   "metadata": {
    "collapsed": false,
    "pycharm": {
     "name": "#%%\n"
    }
   }
  },
  {
   "cell_type": "code",
   "execution_count": 84,
   "outputs": [],
   "source": [
    "X = list(map(' '.join, X))"
   ],
   "metadata": {
    "collapsed": false,
    "pycharm": {
     "name": "#%%\n"
    }
   }
  },
  {
   "cell_type": "code",
   "execution_count": 85,
   "outputs": [],
   "source": [
    "X = np.array(list(map(partial(tokenizer, pad=50), X)))"
   ],
   "metadata": {
    "collapsed": false,
    "pycharm": {
     "name": "#%%\n"
    }
   }
  },
  {
   "cell_type": "code",
   "execution_count": 86,
   "outputs": [
    {
     "data": {
      "text/plain": "(746, 50, 300)"
     },
     "execution_count": 86,
     "metadata": {},
     "output_type": "execute_result"
    }
   ],
   "source": [
    "X.shape"
   ],
   "metadata": {
    "collapsed": false,
    "pycharm": {
     "name": "#%%\n"
    }
   }
  },
  {
   "cell_type": "code",
   "execution_count": 87,
   "outputs": [
    {
     "data": {
      "text/plain": "(746,)"
     },
     "execution_count": 87,
     "metadata": {},
     "output_type": "execute_result"
    }
   ],
   "source": [
    "y.shape"
   ],
   "metadata": {
    "collapsed": false,
    "pycharm": {
     "name": "#%%\n"
    }
   }
  },
  {
   "cell_type": "code",
   "execution_count": 88,
   "outputs": [],
   "source": [
    "Y = OneHotEncoder().fit_transform(y.values.reshape(-1, 1)).toarray()"
   ],
   "metadata": {
    "collapsed": false,
    "pycharm": {
     "name": "#%%\n"
    }
   }
  },
  {
   "cell_type": "code",
   "execution_count": 89,
   "outputs": [
    {
     "data": {
      "text/plain": "(746, 50, 300)"
     },
     "execution_count": 89,
     "metadata": {},
     "output_type": "execute_result"
    }
   ],
   "source": [
    "X.shape"
   ],
   "metadata": {
    "collapsed": false,
    "pycharm": {
     "name": "#%%\n"
    }
   }
  },
  {
   "cell_type": "code",
   "execution_count": 90,
   "outputs": [],
   "source": [
    "X = X.reshape((746, -1))"
   ],
   "metadata": {
    "collapsed": false,
    "pycharm": {
     "name": "#%%\n"
    }
   }
  },
  {
   "cell_type": "code",
   "execution_count": 126,
   "outputs": [],
   "source": [
    "X_train, X_test, y_train, y_test = train_test_split(X, y, test_size=0.1, )\n",
    "# X_train, X_test, Y_train, Y_test = train_test_split(X, Y, test_size=0.1)"
   ],
   "metadata": {
    "collapsed": false,
    "pycharm": {
     "name": "#%%\n"
    }
   }
  },
  {
   "cell_type": "code",
   "execution_count": 127,
   "outputs": [
    {
     "name": "stderr",
     "output_type": "stream",
     "text": [
      "c:\\users\\uiqko\\pyenvs\\mint\\lib\\site-packages\\sklearn\\linear_model\\_logistic.py:814: ConvergenceWarning: lbfgs failed to converge (status=1):\n",
      "STOP: TOTAL NO. of ITERATIONS REACHED LIMIT.\n",
      "\n",
      "Increase the number of iterations (max_iter) or scale the data as shown in:\n",
      "    https://scikit-learn.org/stable/modules/preprocessing.html\n",
      "Please also refer to the documentation for alternative solver options:\n",
      "    https://scikit-learn.org/stable/modules/linear_model.html#logistic-regression\n",
      "  n_iter_i = _check_optimize_result(\n",
      "\n"
     ]
    },
    {
     "data": {
      "text/plain": "LogisticRegression()"
     },
     "execution_count": 127,
     "metadata": {},
     "output_type": "execute_result"
    }
   ],
   "source": [
    "model.fit(X_train, y_train)"
   ],
   "metadata": {
    "collapsed": false,
    "pycharm": {
     "name": "#%%\n"
    }
   }
  },
  {
   "cell_type": "code",
   "execution_count": 93,
   "outputs": [],
   "source": [
    "test1 = tokenizer('программного обеспечения,документированием программного обеспечения требования различных,правила редактирования научнотехнической документации,программного обеспечения документирование соответствии со,этапов разработки программного обеспечения документирование,коллективную среду документирования программного обеспечения,документационного сопровождения разработки программного обеспечения,правила редактирования научнотехнической документации нормативнотехнические,узнания правила редактирования научнотехнической документации,разработки программного обеспечения,документирование разработки программного,управления документированием программного обеспечения требования,документационного сопровождения разработки программного,программного,документирование разработки программного обеспечения,применять коллективную среду документирования программного,коллективную среду документирования программного,разработки программного обеспечения документирование,моделирования бизнеспроцессов методология ведения документооборота,организация документационного сопровождения разработки программного'.replace(',', ' '), pad=50).reshape(-1, 1)"
   ],
   "metadata": {
    "collapsed": false,
    "pycharm": {
     "name": "#%%\n"
    }
   }
  },
  {
   "cell_type": "code",
   "execution_count": 94,
   "outputs": [
    {
     "data": {
      "text/plain": "(15000, 1)"
     },
     "execution_count": 94,
     "metadata": {},
     "output_type": "execute_result"
    }
   ],
   "source": [
    "test1.shape"
   ],
   "metadata": {
    "collapsed": false,
    "pycharm": {
     "name": "#%%\n"
    }
   }
  },
  {
   "cell_type": "code",
   "execution_count": 118,
   "outputs": [],
   "source": [
    "y_pred = model.predict(X_test)"
   ],
   "metadata": {
    "collapsed": false,
    "pycharm": {
     "name": "#%%\n"
    }
   }
  },
  {
   "cell_type": "code",
   "execution_count": 128,
   "outputs": [
    {
     "data": {
      "text/plain": "0.06031746031746032"
     },
     "execution_count": 128,
     "metadata": {},
     "output_type": "execute_result"
    }
   ],
   "source": [
    "f1_score(y_test, y_pred, average='macro')"
   ],
   "metadata": {
    "collapsed": false,
    "pycharm": {
     "name": "#%%\n"
    }
   }
  },
  {
   "cell_type": "code",
   "execution_count": 129,
   "outputs": [
    {
     "data": {
      "text/plain": "0.13333333333333333"
     },
     "execution_count": 129,
     "metadata": {},
     "output_type": "execute_result"
    }
   ],
   "source": [
    "accuracy_score(y_test, y_pred)"
   ],
   "metadata": {
    "collapsed": false,
    "pycharm": {
     "name": "#%%\n"
    }
   }
  },
  {
   "cell_type": "code",
   "execution_count": 121,
   "outputs": [
    {
     "ename": "SyntaxError",
     "evalue": "invalid syntax (3193057967.py, line 1)",
     "output_type": "error",
     "traceback": [
      "\u001B[1;36m  Input \u001B[1;32mIn [121]\u001B[1;36m\u001B[0m\n\u001B[1;33m    for\u001B[0m\n\u001B[1;37m       ^\u001B[0m\n\u001B[1;31mSyntaxError\u001B[0m\u001B[1;31m:\u001B[0m invalid syntax\n"
     ]
    }
   ],
   "source": [
    "for"
   ],
   "metadata": {
    "collapsed": false,
    "pycharm": {
     "name": "#%%\n"
    }
   }
  },
  {
   "cell_type": "code",
   "execution_count": null,
   "outputs": [],
   "source": [],
   "metadata": {
    "collapsed": false,
    "pycharm": {
     "name": "#%%\n"
    }
   }
  }
 ],
 "metadata": {
  "kernelspec": {
   "display_name": "Python 3",
   "language": "python",
   "name": "python3"
  },
  "language_info": {
   "codemirror_mode": {
    "name": "ipython",
    "version": 2
   },
   "file_extension": ".py",
   "mimetype": "text/x-python",
   "name": "python",
   "nbconvert_exporter": "python",
   "pygments_lexer": "ipython2",
   "version": "2.7.6"
  }
 },
 "nbformat": 4,
 "nbformat_minor": 0
}